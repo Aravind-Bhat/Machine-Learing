{
 "cells": [
  {
   "cell_type": "markdown",
   "metadata": {},
   "source": [
    "<h1>JSON Mini Project<h1>"
   ]
  },
  {
   "cell_type": "code",
   "execution_count": 1,
   "metadata": {},
   "outputs": [],
   "source": [
    "import pandas as pd\n",
    "import json\n",
    "from pandas.io.json import json_normalize"
   ]
  },
  {
   "cell_type": "code",
   "execution_count": 2,
   "metadata": {},
   "outputs": [],
   "source": [
    "# Open the world_bank_projects.json file using Context Manager\n",
    "with open('world_bank_projects.json') as json_file:\n",
    "    json_data = json.load(json_file)\n",
    "# json_data"
   ]
  },
  {
   "cell_type": "code",
   "execution_count": 3,
   "metadata": {},
   "outputs": [],
   "source": [
    "# Convert Dictionary to Dataframe\n",
    "\n",
    "df = pd.DataFrame(json_data)\n",
    "# df.columns"
   ]
  },
  {
   "cell_type": "code",
   "execution_count": null,
   "metadata": {},
   "outputs": [],
   "source": [
    "# Q1 - Find the 10 countries with most projects?\n",
    "# Take countryname and project_name columns. Check is there\n",
    "# any NULL entry for those two cols -  Using df.info(). Then count the values of countryname col.  \n",
    "\n",
    "# df.info()\n",
    "df['countryname'].value_counts()[0:10]"
   ]
  },
  {
   "cell_type": "code",
   "execution_count": null,
   "metadata": {},
   "outputs": [],
   "source": [
    "# Q2 - Find the top 10 major project themes (using column 'mjtheme_namecode')?\n",
    "#  mjtheme_namecode is a Series, Inside that there is a list of Dictionaries.\n",
    "# Get it Normalized using json_normalize and put it in a new Dataframe.\n",
    "\n",
    "df_normalized = json_normalize(json_data, 'mjtheme_namecode')\n",
    "\n",
    "#  Create Master list to solve the next two Questions\n",
    "master_dict = {'1':'Economic management', '2':'Public sector governance', '3':'Rule of law',\\\n",
    "               '4':'Financial and private sector development', '5':'Trade and integration', '6':'Social protection and risk management',\\\n",
    "              '7':'Social dev/gender/inclusion', '8': 'Human development', '9':'Urban development',\\\n",
    "               '10':'Rural development', '11': 'Environment and natural resources management'}\n",
    "\n",
    "# df_normalized\n",
    "# Get the value counts of code slicing it from 0 to 10 : series_code\n",
    "series_code = df_normalized['code'].value_counts()[0:10]\n",
    "# Create a Empty Dictionary\n",
    "dict_code = {}\n",
    "# Map the Index of series to masterdict using list comprehension : Project Names\n",
    "dict_code['Project Names'] = [Name for Name in series_code.index.map(master_dict)]\n",
    "# Get the values of top 10 Themes : #Numbers\n",
    "dict_code['#Numbers'] = series_code.values\n",
    "# Convert a Dictionary to Dataframe\n",
    "df_final = pd.DataFrame(dict_code)\n",
    "df_final\n"
   ]
  },
  {
   "cell_type": "code",
   "execution_count": null,
   "metadata": {},
   "outputs": [],
   "source": [
    "# Q3 - In Q2. above you will notice that some entries have only the code\\\n",
    "# and the name is missing. Create a dataframe with the missing names filled in.\n",
    "# Map the code with masterdict : name\n",
    "df_normalized['name'] = df_normalized['code'].map(master_dict)\n",
    "df_normalized"
   ]
  },
  {
   "cell_type": "code",
   "execution_count": null,
   "metadata": {},
   "outputs": [],
   "source": []
  }
 ],
 "metadata": {
  "kernelspec": {
   "display_name": "Python 3",
   "language": "python",
   "name": "python3"
  },
  "language_info": {
   "codemirror_mode": {
    "name": "ipython",
    "version": 3
   },
   "file_extension": ".py",
   "mimetype": "text/x-python",
   "name": "python",
   "nbconvert_exporter": "python",
   "pygments_lexer": "ipython3",
   "version": "3.7.3"
  }
 },
 "nbformat": 4,
 "nbformat_minor": 2
}
